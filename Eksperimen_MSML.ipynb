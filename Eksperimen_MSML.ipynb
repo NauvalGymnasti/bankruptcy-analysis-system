{
  "cells": [
    {
      "cell_type": "markdown",
      "metadata": {
        "id": "kZLRMFl0JyyQ"
      },
      "source": [
        "# **1. Perkenalan Dataset**\n"
      ]
    },
    {
      "cell_type": "markdown",
      "metadata": {
        "id": "hssSDn-5n3HR"
      },
      "source": [
        "### 🧾 Dataset Description — Taiwanese Bankruptcy Prediction\n",
        "\n",
        "**Sumber Dataset:**\n",
        "Dataset ini berasal dari **Taiwan Economic Journal** untuk periode tahun **1999 hingga 2009**, dan diperoleh dari **UCI Machine Learning Repository**:\n",
        "🔗 [Taiwanese Bankruptcy Prediction Dataset](https://archive.ics.uci.edu/ml/datasets/Taiwanese+Bankruptcy+Prediction)\n",
        "\n",
        "**Deskripsi Umum:**\n",
        "Dataset ini berisi **rasio keuangan perusahaan publik di Taiwan** yang digunakan untuk **memprediksi kemungkinan kebangkrutan (bankruptcy)** suatu perusahaan. Status kebangkrutan ditentukan berdasarkan regulasi bisnis dari **Taiwan Stock Exchange**. Dataset ini sering digunakan dalam penelitian analisis keuangan dan deteksi risiko korporat.\n",
        "\n",
        "**Tujuan Penggunaan Dataset:**\n",
        "Membangun model **klasifikasi biner** untuk memprediksi apakah suatu perusahaan berpotensi **bangkrut (1)** atau **tidak bangkrut (0)** berdasarkan indikator keuangan historisnya.\n",
        "\n",
        "---\n",
        "\n",
        "### 📊 Informasi Atribut\n",
        "\n",
        "* **Target (Y)**\n",
        "  `Bankrupt?` → Kelas target biner (1 = Bangkrut, 0 = Tidak bangkrut)\n",
        "\n",
        "* **Fitur (X1 – X95)**\n",
        "  Dataset memiliki **95 fitur input (rasio keuangan)** yang mencakup berbagai aspek:\n",
        "\n",
        "  * **Profitabilitas** → Return on Assets, Gross Margin, Profit Growth Rate\n",
        "  * **Likuiditas** → Current Ratio, Quick Ratio, Cash Flow Ratio\n",
        "  * **Leverage & Solvabilitas** → Debt Ratio, Liability to Equity, Interest Coverage\n",
        "  * **Aktivitas & Efisiensi** → Asset Turnover, Inventory Turnover, Collection Days\n",
        "  * **Pertumbuhan & Nilai Saham** → EPS Growth, Book Value per Share\n",
        "  * **Cash Flow & Modal Kerja** → Cash Flow to Assets, Working Capital Ratio\n",
        "\n",
        "Setiap fitur direpresentasikan sebagai rasio atau indikator numerik yang mencerminkan kondisi finansial perusahaan.\n",
        "\n",
        "---\n",
        "\n",
        "### 📈 Karakteristik Dataset\n",
        "\n",
        "| Atribut          | Nilai                                                           |\n",
        "| ---------------- | --------------------------------------------------------------- |\n",
        "| Jumlah sampel    | ±6.819 perusahaan                                               |\n",
        "| Jumlah fitur     | 95                                                              |\n",
        "| Jenis fitur      | Numerik (rasio keuangan)                                        |\n",
        "| Target           | `Bankrupt?` (0 atau 1)                                          |\n",
        "| Jenis tugas      | Klasifikasi biner                                               |\n",
        "| Periode data     | 1999 – 2009                                                     |\n",
        "| Sumber data      | Taiwan Economic Journal                                         |\n",
        "| Referensi ilmiah | Liang et al. (2016), *European Journal of Operational Research* |\n",
        "\n",
        "---\n",
        "\n",
        "### 📚 Referensi Penelitian\n",
        "\n",
        "Liang, D., Lu, C.-C., Tsai, C.-F., & Shih, G.-A. (2016).\n",
        "*Financial Ratios and Corporate Governance Indicators in Bankruptcy Prediction: A Comprehensive Study.*\n",
        "**European Journal of Operational Research, 252(2), 561–572.**\n",
        "🔗 [Link Paper](https://www.sciencedirect.com/science/article/pii/S0377221716000412)"
      ]
    },
    {
      "cell_type": "markdown",
      "metadata": {
        "id": "fKADPWcFKlj3"
      },
      "source": [
        "# **2. Import Library**"
      ]
    },
    {
      "cell_type": "markdown",
      "metadata": {
        "id": "LgA3ERnVn84N"
      },
      "source": [
        "Pada tahap ini, Anda perlu mengimpor beberapa pustaka (library) Python yang dibutuhkan untuk analisis data dan pembangunan model machine learning atau deep learning."
      ]
    },
    {
      "cell_type": "code",
      "execution_count": 4,
      "metadata": {
        "id": "BlmvjLY9M4Yj"
      },
      "outputs": [],
      "source": [
        "# Data & Visualisasi\n",
        "import numpy as np\n",
        "import pandas as pd\n",
        "import matplotlib.pyplot as plt\n",
        "import seaborn as sns\n",
        "\n",
        "# Pra-pemrosesan & Model ML\n",
        "from sklearn.preprocessing import MinMaxScaler\n",
        "from sklearn.model_selection import train_test_split\n",
        "from tensorflow.keras.models import Sequential\n",
        "from tensorflow.keras.layers import LSTM, Dense, Dropout\n",
        "\n",
        "# Utility\n",
        "import datetime as dt\n",
        "import warnings\n",
        "warnings.filterwarnings('ignore')\n",
        "\n",
        "from sklearn.preprocessing import StandardScaler\n",
        "from sklearn.metrics import (\n",
        "    accuracy_score, confusion_matrix, classification_report, roc_auc_score, roc_curve\n",
        ")\n",
        "from xgboost import XGBClassifier\n",
        "import matplotlib.pyplot as plt\n",
        "import seaborn as sns\n"
      ]
    },
    {
      "cell_type": "markdown",
      "metadata": {
        "id": "f3YIEnAFKrKL"
      },
      "source": [
        "# **3. Memuat Dataset**"
      ]
    },
    {
      "cell_type": "markdown",
      "metadata": {
        "id": "Ey3ItwTen_7E"
      },
      "source": [
        "Pada tahap ini, Anda perlu memuat dataset ke dalam notebook. Jika dataset dalam format CSV, Anda bisa menggunakan pustaka pandas untuk membacanya. Pastikan untuk mengecek beberapa baris awal dataset untuk memahami strukturnya dan memastikan data telah dimuat dengan benar.\n",
        "\n",
        "Jika dataset berada di Google Drive, pastikan Anda menghubungkan Google Drive ke Colab terlebih dahulu. Setelah dataset berhasil dimuat, langkah berikutnya adalah memeriksa kesesuaian data dan siap untuk dianalisis lebih lanjut.\n",
        "\n",
        "Jika dataset berupa unstructured data, silakan sesuaikan dengan format seperti kelas Machine Learning Pengembangan atau Machine Learning Terapan"
      ]
    },
    {
      "cell_type": "code",
      "execution_count": null,
      "metadata": {
        "id": "GHCGNTyrM5fS"
      },
      "outputs": [],
      "source": [
        "#Type your code here"
      ]
    },
    {
      "cell_type": "markdown",
      "metadata": {
        "id": "bgZkbJLpK9UR"
      },
      "source": [
        "# **4. Exploratory Data Analysis (EDA)**\n",
        "\n",
        "Pada tahap ini, Anda akan melakukan **Exploratory Data Analysis (EDA)** untuk memahami karakteristik dataset.\n",
        "\n",
        "Tujuan dari EDA adalah untuk memperoleh wawasan awal yang mendalam mengenai data dan menentukan langkah selanjutnya dalam analisis atau pemodelan."
      ]
    },
    {
      "cell_type": "code",
      "execution_count": null,
      "metadata": {
        "id": "dKeejtvxM6X1"
      },
      "outputs": [],
      "source": [
        "#Type your code here"
      ]
    },
    {
      "cell_type": "markdown",
      "metadata": {
        "id": "cpgHfgnSK3ip"
      },
      "source": [
        "# **5. Data Preprocessing**"
      ]
    },
    {
      "cell_type": "markdown",
      "metadata": {
        "id": "COf8KUPXLg5r"
      },
      "source": [
        "Pada tahap ini, data preprocessing adalah langkah penting untuk memastikan kualitas data sebelum digunakan dalam model machine learning.\n",
        "\n",
        "Jika Anda menggunakan data teks, data mentah sering kali mengandung nilai kosong, duplikasi, atau rentang nilai yang tidak konsisten, yang dapat memengaruhi kinerja model. Oleh karena itu, proses ini bertujuan untuk membersihkan dan mempersiapkan data agar analisis berjalan optimal.\n",
        "\n",
        "Berikut adalah tahapan-tahapan yang bisa dilakukan, tetapi **tidak terbatas** pada:\n",
        "1. Menghapus atau Menangani Data Kosong (Missing Values)\n",
        "2. Menghapus Data Duplikat\n",
        "3. Normalisasi atau Standarisasi Fitur\n",
        "4. Deteksi dan Penanganan Outlier\n",
        "5. Encoding Data Kategorikal\n",
        "6. Binning (Pengelompokan Data)\n",
        "\n",
        "Cukup sesuaikan dengan karakteristik data yang kamu gunakan yah. Khususnya ketika kami menggunakan data tidak terstruktur."
      ]
    },
    {
      "cell_type": "code",
      "execution_count": null,
      "metadata": {
        "id": "Og8pGV0-iDLz"
      },
      "outputs": [],
      "source": []
    }
  ],
  "metadata": {
    "accelerator": "GPU",
    "colab": {
      "gpuType": "T4",
      "provenance": []
    },
    "kernelspec": {
      "display_name": "sml_env",
      "language": "python",
      "name": "python3"
    },
    "language_info": {
      "codemirror_mode": {
        "name": "ipython",
        "version": 3
      },
      "file_extension": ".py",
      "mimetype": "text/x-python",
      "name": "python",
      "nbconvert_exporter": "python",
      "pygments_lexer": "ipython3",
      "version": "3.10.19"
    }
  },
  "nbformat": 4,
  "nbformat_minor": 0
}
